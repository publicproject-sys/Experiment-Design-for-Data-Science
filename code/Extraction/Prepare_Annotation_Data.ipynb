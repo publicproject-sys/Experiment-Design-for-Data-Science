{
 "cells": [
  {
   "cell_type": "code",
   "execution_count": null,
   "metadata": {},
   "outputs": [],
   "source": [
    "from tqdm import tqdm_notebook as tqdm\n",
    "import json\n",
    "from collections import defaultdict\n",
    "import csv\n",
    "import os\n",
    "import random\n",
    "import pandas as pd\n",
    "import pickle\n",
    "import numpy as np\n",
    "import re"
   ]
  },
  {
   "cell_type": "code",
   "execution_count": null,
   "metadata": {},
   "outputs": [],
   "source": [
    "data_dict = {}\n",
    "tot = 0\n",
    "for file in tqdm(os.listdir('./extracted_data/')):\n",
    "    with open('./extracted_data/'+file,'r') as fil:\n",
    "        data = json.load(fil)\n",
    "    tot += len(data)\n",
    "    for key in data:\n",
    "        data_dict[key] = data[key]\n",
    "        data_dict[key]['site_id'] = \"-\".join((key.split(\"-\"))[0:2])\n",
    "        \n",
    "reviews = pd.DataFrame.from_dict(data_dict, orient='index')\n",
    "reviews.reset_index(level=0, inplace=True)"
   ]
  },
  {
   "cell_type": "code",
   "execution_count": null,
   "metadata": {},
   "outputs": [],
   "source": [
    "with open('all_reviews.pkl','wb+') as f:\n",
    "    pickle.dump(reviews,f)"
   ]
  },
  {
   "cell_type": "code",
   "execution_count": null,
   "metadata": {},
   "outputs": [],
   "source": [
    "with open('all_reviews.pkl','rb+') as f:\n",
    "    reviews = pickle.load(f)"
   ]
  },
  {
   "cell_type": "code",
   "execution_count": null,
   "metadata": {},
   "outputs": [],
   "source": [
    "keywords = {}\n",
    "keywords['family']= ['family','kids','sons']\n",
    "keywords['couples'] = ['girlfriend','boyfriend','husband','wife','couple']\n",
    "keywords['handicap'] = ['wheelchair','handicap','elevator','disabled','stairs']\n",
    "keywords['crowd'] = ['crowd','jammed','people','packed','queue']\n",
    "keywords['claustrophobic'] = ['claustrophob']\n",
    "keywords['time_of_day'] = ['day','night','afternoon','morning','evening']\n",
    "keywords['price'] = ['expensive','cheap','pricey','price','cost','$','dollars','overpriced']\n",
    "keywords['food'] = ['delicious','food','meat','din','lunch','veg']\n",
    "keywords['age'] = ['young','old','year','teen','grandparents']"
   ]
  },
  {
   "cell_type": "code",
   "execution_count": null,
   "metadata": {},
   "outputs": [],
   "source": [
    "categories = {}\n",
    "for key in keywords.keys():\n",
    "    categories[key] = []\n",
    "\n",
    "for i,row in tqdm(reviews.iterrows(),total=len(reviews)):\n",
    "    for cat in categories.keys():\n",
    "        for word in keywords[cat]:\n",
    "            if word in str(row['text']):\n",
    "                categories[cat].append(row)\n",
    "                break"
   ]
  },
  {
   "cell_type": "code",
   "execution_count": null,
   "metadata": {},
   "outputs": [],
   "source": [
    "sampled_reviews = {}\n",
    "uniq = []\n",
    "for key in categories:\n",
    "    site_rev = defaultdict(lambda:[])\n",
    "    sampled_reviews[key] = []\n",
    "    for row in categories[key]:\n",
    "        site_rev[row['site_id']].append(row)\n",
    "    \n",
    "    sites = random.sample(list(site_rev.keys()),205)\n",
    "    for site in sites:\n",
    "        while True:\n",
    "            samp = random.sample(site_rev[site],1)[0]\n",
    "            if samp['index'] not in uniq:\n",
    "                break\n",
    "        sampled_reviews[key].append(samp)\n",
    "        uniq.append(samp['index'])"
   ]
  },
  {
   "cell_type": "code",
   "execution_count": null,
   "metadata": {},
   "outputs": [],
   "source": [
    "idli = []\n",
    "for key in sampled_reviews:\n",
    "    for rev in sampled_reviews[key]:\n",
    "        idli.append(rev['index'])\n",
    "print(len(idli))\n",
    "print(len(set(idli)))\n",
    "\n",
    "idlis = []\n",
    "for key in categories:\n",
    "    for rev in categories[key]:\n",
    "        idlis.append(rev['index'])\n",
    "\n",
    "idlis = list(set(idlis))\n",
    "\n",
    "sampled_reviews['other'] = []\n",
    "for i in tqdm(range(155)):\n",
    "    while True:\n",
    "        rno = random.randint(0,len(reviews)-1)\n",
    "        row = reviews.iloc[rno]\n",
    "        if row['index'] not in idlis:\n",
    "            break\n",
    "    idlis.append(row['index'])\n",
    "    sampled_reviews['other'].append(row)\n",
    "\n",
    "with open('sampled.pkl','wb+') as f:\n",
    "    pickle.dump(sampled_reviews,f)\n",
    "\n",
    "def clean_text(text):\n",
    "    text = re.sub('\\\\\\\\n','',text)\n",
    "    text = re.sub('\\\\\\\\u2019','\\'',text) \n",
    "    text = re.sub(u' [a-zA-Z0-9]*\\\\\\\\u[a-zA-Z0-9]* ','',text)\n",
    "    text = re.sub('\\(','',text)\n",
    "    text = re.sub('\\)','',text)\n",
    "    text = re.sub('<','< ',text)\n",
    "    text = re.sub('>',' >',text)\n",
    "    text = re.sub('\\[','\\[ ',text)\n",
    "    text = re.sub('\\]',' \\]',text)\n",
    "    return text\n",
    "\n",
    "review_list = []\n",
    "for cat in sampled_reviews:\n",
    "    for row in sampled_reviews[cat]:\n",
    "        temp = {}\n",
    "        text = clean_text(row['text'])\n",
    "        temp['text'] = re.sub('\\\\\\\\','',text)\n",
    "        temp['meta'] = {}\n",
    "        temp['meta']['review_id'] = row['index']\n",
    "        temp['meta']['category'] = cat\n",
    "        review_list.append(json.dumps(temp))\n",
    "random.shuffle(review_list)\n",
    "\n",
    "with open('final_annotations.jsonl','w') as f:\n",
    "    for lis in review_list:\n",
    "        f.write(str(lis)+'\\n')"
   ]
  }
 ],
 "metadata": {
  "kernelspec": {
   "display_name": "Python 3",
   "language": "python",
   "name": "python3"
  },
  "language_info": {
   "codemirror_mode": {
    "name": "ipython",
    "version": 3
   },
   "file_extension": ".py",
   "mimetype": "text/x-python",
   "name": "python",
   "nbconvert_exporter": "python",
   "pygments_lexer": "ipython3",
   "version": "3.6.9"
  }
 },
 "nbformat": 4,
 "nbformat_minor": 2
}
